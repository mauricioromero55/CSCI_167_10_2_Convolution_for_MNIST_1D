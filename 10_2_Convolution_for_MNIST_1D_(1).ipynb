{
  "nbformat": 4,
  "nbformat_minor": 0,
  "metadata": {
    "colab": {
      "provenance": []
    },
    "kernelspec": {
      "name": "python3",
      "display_name": "Python 3"
    },
    "language_info": {
      "name": "python"
    }
  },
  "cells": [
    {
      "cell_type": "markdown",
      "metadata": {
        "id": "view-in-github"
      },
      "source": [
        "<a href=\"https://colab.research.google.com/github/udlbook/udlbook/blob/main/Notebooks/Chap10/10_2_Convolution_for_MNIST_1D.ipynb\" target=\"_parent\"><img src=\"https://colab.research.google.com/assets/colab-badge.svg\" alt=\"Open In Colab\"/></a>"
      ]
    },
    {
      "cell_type": "markdown",
      "source": [
        "# **Notebook 10.2: Convolution for MNIST-1D**\n",
        "\n",
        "This notebook investigates a 1D convolutional network for MNIST-1D as in figure 10.7 and 10.8a.\n",
        "\n",
        "Work through the cells below, running each cell in turn. In various places you will see the words \"TO DO\". Follow the instructions at these places and make predictions about what is going to happen or write code to complete the functions.\n",
        "\n",
        "Contact me at udlbookmail@gmail.com if you find any mistakes or have any suggestions.\n",
        "\n"
      ],
      "metadata": {
        "id": "t9vk9Elugvmi"
      }
    },
    {
      "cell_type": "code",
      "source": [
        "# Run this if you're in a Colab to install MNIST 1D repository\n",
        "!pip install git+https://github.com/greydanus/mnist1d"
      ],
      "metadata": {
        "id": "D5yLObtZCi9J",
        "colab": {
          "base_uri": "https://localhost:8080/"
        },
        "outputId": "d67536bc-cfcd-440c-ed64-69d097dea684"
      },
      "execution_count": 1,
      "outputs": [
        {
          "output_type": "stream",
          "name": "stdout",
          "text": [
            "Collecting git+https://github.com/greydanus/mnist1d\n",
            "  Cloning https://github.com/greydanus/mnist1d to /tmp/pip-req-build-tlvsq_xj\n",
            "  Running command git clone --filter=blob:none --quiet https://github.com/greydanus/mnist1d /tmp/pip-req-build-tlvsq_xj\n",
            "  Resolved https://github.com/greydanus/mnist1d to commit 7878d96082abd200c546a07a4101fa90b30fdf7e\n",
            "  Installing build dependencies ... \u001b[?25l\u001b[?25hdone\n",
            "  Getting requirements to build wheel ... \u001b[?25l\u001b[?25hdone\n",
            "  Preparing metadata (pyproject.toml) ... \u001b[?25l\u001b[?25hdone\n",
            "Requirement already satisfied: requests in /usr/local/lib/python3.10/dist-packages (from mnist1d==0.0.2.post16) (2.32.3)\n",
            "Requirement already satisfied: numpy in /usr/local/lib/python3.10/dist-packages (from mnist1d==0.0.2.post16) (1.26.4)\n",
            "Requirement already satisfied: matplotlib in /usr/local/lib/python3.10/dist-packages (from mnist1d==0.0.2.post16) (3.7.1)\n",
            "Requirement already satisfied: scipy in /usr/local/lib/python3.10/dist-packages (from mnist1d==0.0.2.post16) (1.13.1)\n",
            "Requirement already satisfied: contourpy>=1.0.1 in /usr/local/lib/python3.10/dist-packages (from matplotlib->mnist1d==0.0.2.post16) (1.3.0)\n",
            "Requirement already satisfied: cycler>=0.10 in /usr/local/lib/python3.10/dist-packages (from matplotlib->mnist1d==0.0.2.post16) (0.12.1)\n",
            "Requirement already satisfied: fonttools>=4.22.0 in /usr/local/lib/python3.10/dist-packages (from matplotlib->mnist1d==0.0.2.post16) (4.54.1)\n",
            "Requirement already satisfied: kiwisolver>=1.0.1 in /usr/local/lib/python3.10/dist-packages (from matplotlib->mnist1d==0.0.2.post16) (1.4.7)\n",
            "Requirement already satisfied: packaging>=20.0 in /usr/local/lib/python3.10/dist-packages (from matplotlib->mnist1d==0.0.2.post16) (24.1)\n",
            "Requirement already satisfied: pillow>=6.2.0 in /usr/local/lib/python3.10/dist-packages (from matplotlib->mnist1d==0.0.2.post16) (10.4.0)\n",
            "Requirement already satisfied: pyparsing>=2.3.1 in /usr/local/lib/python3.10/dist-packages (from matplotlib->mnist1d==0.0.2.post16) (3.2.0)\n",
            "Requirement already satisfied: python-dateutil>=2.7 in /usr/local/lib/python3.10/dist-packages (from matplotlib->mnist1d==0.0.2.post16) (2.8.2)\n",
            "Requirement already satisfied: charset-normalizer<4,>=2 in /usr/local/lib/python3.10/dist-packages (from requests->mnist1d==0.0.2.post16) (3.4.0)\n",
            "Requirement already satisfied: idna<4,>=2.5 in /usr/local/lib/python3.10/dist-packages (from requests->mnist1d==0.0.2.post16) (3.10)\n",
            "Requirement already satisfied: urllib3<3,>=1.21.1 in /usr/local/lib/python3.10/dist-packages (from requests->mnist1d==0.0.2.post16) (2.2.3)\n",
            "Requirement already satisfied: certifi>=2017.4.17 in /usr/local/lib/python3.10/dist-packages (from requests->mnist1d==0.0.2.post16) (2024.8.30)\n",
            "Requirement already satisfied: six>=1.5 in /usr/local/lib/python3.10/dist-packages (from python-dateutil>=2.7->matplotlib->mnist1d==0.0.2.post16) (1.16.0)\n",
            "Building wheels for collected packages: mnist1d\n",
            "  Building wheel for mnist1d (pyproject.toml) ... \u001b[?25l\u001b[?25hdone\n",
            "  Created wheel for mnist1d: filename=mnist1d-0.0.2.post16-py3-none-any.whl size=14624 sha256=c660fa463e915e63dcdbce68d152c0f595627ca89d07064b9c30edbd2e4cc2c6\n",
            "  Stored in directory: /tmp/pip-ephem-wheel-cache-rarllp1d/wheels/41/95/55/45fcf7d38cfa97e35682da6c5017d4513729131326ce935371\n",
            "Successfully built mnist1d\n",
            "Installing collected packages: mnist1d\n",
            "Successfully installed mnist1d-0.0.2.post16\n"
          ]
        }
      ]
    },
    {
      "cell_type": "code",
      "source": [
        "import numpy as np\n",
        "import os\n",
        "import torch, torch.nn as nn\n",
        "from torch.utils.data import TensorDataset, DataLoader\n",
        "from torch.optim.lr_scheduler import StepLR\n",
        "import matplotlib.pyplot as plt\n",
        "import mnist1d\n",
        "import random"
      ],
      "metadata": {
        "id": "YrXWAH7sUWvU"
      },
      "execution_count": 2,
      "outputs": []
    },
    {
      "cell_type": "code",
      "source": [
        "args = mnist1d.data.get_dataset_args()\n",
        "data = mnist1d.data.get_dataset(args, path='./mnist1d_data.pkl', download=False, regenerate=False)\n",
        "\n",
        "# The training and test input and outputs are in\n",
        "# data['x'], data['y'], data['x_test'], and data['y_test']\n",
        "print(\"Examples in training set: {}\".format(len(data['y'])))\n",
        "print(\"Examples in test set: {}\".format(len(data['y_test'])))\n",
        "print(\"Length of each example: {}\".format(data['x'].shape[-1]))"
      ],
      "metadata": {
        "id": "twI72ZCrCt5z",
        "colab": {
          "base_uri": "https://localhost:8080/"
        },
        "outputId": "9f60d43c-4082-41b6-a155-79096bac5e8d"
      },
      "execution_count": 3,
      "outputs": [
        {
          "output_type": "stream",
          "name": "stdout",
          "text": [
            "Did or could not load data from ./mnist1d_data.pkl. Rebuilding dataset...\n",
            "Examples in training set: 4000\n",
            "Examples in test set: 1000\n",
            "Length of each example: 40\n"
          ]
        }
      ]
    },
    {
      "cell_type": "code",
      "source": [
        "# Load in the data\n",
        "train_data_x = data['x'].transpose()\n",
        "train_data_y = data['y']\n",
        "val_data_x = data['x_test'].transpose()\n",
        "val_data_y = data['y_test']\n",
        "# Print out sizes\n",
        "print(\"Train data: %d examples (columns), each of which has %d dimensions (rows)\"%((train_data_x.shape[1],train_data_x.shape[0])))\n",
        "print(\"Validation data: %d examples (columns), each of which has %d dimensions (rows)\"%((val_data_x.shape[1],val_data_x.shape[0])))"
      ],
      "metadata": {
        "id": "8bKADvLHbiV5",
        "colab": {
          "base_uri": "https://localhost:8080/"
        },
        "outputId": "0adb3a4b-5a1b-446d-f4cf-ef55cc529d00"
      },
      "execution_count": 4,
      "outputs": [
        {
          "output_type": "stream",
          "name": "stdout",
          "text": [
            "Train data: 4000 examples (columns), each of which has 40 dimensions (rows)\n",
            "Validation data: 1000 examples (columns), each of which has 40 dimensions (rows)\n"
          ]
        }
      ]
    },
    {
      "cell_type": "markdown",
      "source": [
        "Define the network"
      ],
      "metadata": {
        "id": "_sFvRDGrl4qe"
      }
    },
    {
      "cell_type": "code",
      "source": [
        "# There are 40 input dimensions and 10 output dimensions for this data\n",
        "# The inputs correspond to the 40 offsets in the MNIST1D template.\n",
        "D_i = 40\n",
        "# The outputs correspond to the 10 digits\n",
        "D_o = 10\n",
        "\n",
        "\n",
        "# TODO Create a model with the following layers\n",
        "# 1. Convolutional layer, (input=length 40 and 1 channel, kernel size 3, stride 2, padding=\"valid\", 15 output channels )\n",
        "# 2. ReLU\n",
        "# 3. Convolutional layer, (input=length 19 and 15 channels, kernel size 3, stride 2, padding=\"valid\", 15 output channels )\n",
        "# 4. ReLU\n",
        "# 5. Convolutional layer, (input=length 9 and 15 channels, kernel size 3, stride 2, padding=\"valid\", 15 output channels)\n",
        "# 6. ReLU\n",
        "# 7. Flatten (converts 4x15) to length 60\n",
        "# 8. Linear layer (input size = 60, output size = 10)\n",
        "# References:\n",
        "# https://pytorch.org/docs/1.13/generated/torch.nn.Conv1d.html?highlight=conv1d#torch.nn.Conv1d\n",
        "# https://pytorch.org/docs/stable/generated/torch.nn.Flatten.html\n",
        "# https://pytorch.org/docs/1.13/generated/torch.nn.Linear.html?highlight=linear#torch.nn.Linear\n",
        "\n",
        "# NOTE THAT THE CONVOLUTIONAL LAYERS NEED TO TAKE THE NUMBER OF INPUT CHANNELS AS A PARAMETER\n",
        "# AND NOT THE INPUT SIZE.\n",
        "\n",
        "# Replace the following function:\n",
        "# each Conv1d takes the input channels, not length\n",
        "model = nn.Sequential(\n",
        "    nn.Conv1d(in_channels=1, out_channels=15, kernel_size=3, stride=2, padding=\"valid\"),\n",
        "    nn.ReLU(),\n",
        "    nn.Conv1d(in_channels=15, out_channels=15, kernel_size=3, stride=2, padding=\"valid\"),\n",
        "    nn.ReLU(),\n",
        "    nn.Conv1d(in_channels=15, out_channels=15, kernel_size=3, stride=2, padding=\"valid\"),\n",
        "    nn.ReLU(),\n",
        "    nn.Flatten(),\n",
        "    nn.Linear(60, 10))\n",
        "\n"
      ],
      "metadata": {
        "id": "FslroPJJffrh"
      },
      "execution_count": 6,
      "outputs": []
    },
    {
      "cell_type": "code",
      "source": [
        "# He initialization of weights\n",
        "def weights_init(layer_in):\n",
        "  if isinstance(layer_in, nn.Linear):\n",
        "    nn.init.kaiming_uniform_(layer_in.weight)\n",
        "    layer_in.bias.data.fill_(0.0)"
      ],
      "metadata": {
        "id": "YgLaex1pfhqz"
      },
      "execution_count": 7,
      "outputs": []
    },
    {
      "cell_type": "code",
      "source": [
        "# choose cross entropy loss function (equation 5.24 in the loss notes)\n",
        "# generally used for classification (0 or 1) squared loss for regression\n",
        "loss_function = nn.CrossEntropyLoss()\n",
        "# construct SGD optimizer and initialize learning rate and momentum\n",
        "optimizer = torch.optim.SGD(model.parameters(), lr = 0.05, momentum=0.9)\n",
        "# object that decreases learning rate by half every 20 epochs\n",
        "scheduler = StepLR(optimizer, step_size=20, gamma=0.5)\n",
        "# create 100 dummy data points and store in data loader class\n",
        "x_train = torch.tensor(train_data_x.transpose().astype('float32'))\n",
        "y_train = torch.tensor(train_data_y.astype('long')).long()\n",
        "x_val= torch.tensor(val_data_x.transpose().astype('float32'))\n",
        "y_val = torch.tensor(val_data_y.astype('long')).long()\n",
        "\n",
        "# load the data into a class that creates the batches\n",
        "data_loader = DataLoader(TensorDataset(x_train,y_train), batch_size=100, shuffle=True, worker_init_fn=np.random.seed(1))\n",
        "\n",
        "# Initialize model weights\n",
        "model.apply(weights_init)\n",
        "\n",
        "# loop over the dataset n_epoch times\n",
        "n_epoch = 100\n",
        "# store the loss and the % correct at each epoch\n",
        "losses_train = np.zeros((n_epoch))\n",
        "errors_train = np.zeros((n_epoch))\n",
        "losses_val = np.zeros((n_epoch))\n",
        "errors_val = np.zeros((n_epoch))\n",
        "\n",
        "for epoch in range(n_epoch):\n",
        "  # loop over batches\n",
        "  for i, data in enumerate(data_loader):\n",
        "    # retrieve inputs and labels for this batch\n",
        "    x_batch, y_batch = data\n",
        "    # zero the parameter gradients\n",
        "    optimizer.zero_grad()\n",
        "    # forward pass -- calculate model output\n",
        "    pred = model(x_batch[:,None,:])\n",
        "    # compute the loss\n",
        "    loss = loss_function(pred, y_batch)\n",
        "    # backward pass\n",
        "    loss.backward()\n",
        "    # SGD update\n",
        "    optimizer.step()\n",
        "\n",
        "  # Run whole dataset to get statistics -- normally wouldn't do this\n",
        "  pred_train = model(x_train[:,None,:])\n",
        "  pred_val = model(x_val[:,None,:])\n",
        "  _, predicted_train_class = torch.max(pred_train.data, 1)\n",
        "  _, predicted_val_class = torch.max(pred_val.data, 1)\n",
        "  errors_train[epoch] = 100 - 100 * (predicted_train_class == y_train).float().sum() / len(y_train)\n",
        "  errors_val[epoch]= 100 - 100 * (predicted_val_class == y_val).float().sum() / len(y_val)\n",
        "  losses_train[epoch] = loss_function(pred_train, y_train).item()\n",
        "  losses_val[epoch]= loss_function(pred_val, y_val).item()\n",
        "  print(f'Epoch {epoch:5d}, train loss {losses_train[epoch]:.6f}, train error {errors_train[epoch]:3.2f},  val loss {losses_val[epoch]:.6f}, percent error {errors_val[epoch]:3.2f}')\n",
        "\n",
        "  # tell scheduler to consider updating learning rate\n",
        "  scheduler.step()\n",
        "\n",
        "# Plot the results\n",
        "fig, ax = plt.subplots()\n",
        "ax.plot(errors_train,'r-',label='train')\n",
        "ax.plot(errors_val,'b-',label='validation')\n",
        "ax.set_ylim(0,100); ax.set_xlim(0,n_epoch)\n",
        "ax.set_xlabel('Epoch'); ax.set_ylabel('Error')\n",
        "ax.set_title('Part I: Validation Result %3.2f'%(errors_val[-1]))\n",
        "ax.legend()\n",
        "plt.show()"
      ],
      "metadata": {
        "id": "NYw8I_3mmX5c",
        "colab": {
          "base_uri": "https://localhost:8080/",
          "height": 1000
        },
        "outputId": "91a162be-4b9f-4f99-e1ea-e948b24c53a1"
      },
      "execution_count": 8,
      "outputs": [
        {
          "output_type": "stream",
          "name": "stdout",
          "text": [
            "Epoch     0, train loss 1.811931, train error 72.72,  val loss 1.819916, percent error 74.20\n",
            "Epoch     1, train loss 1.464472, train error 60.55,  val loss 1.471574, percent error 60.20\n",
            "Epoch     2, train loss 1.382175, train error 58.00,  val loss 1.388609, percent error 59.70\n",
            "Epoch     3, train loss 1.426374, train error 55.83,  val loss 1.445879, percent error 59.00\n",
            "Epoch     4, train loss 1.164823, train error 46.97,  val loss 1.182518, percent error 49.90\n",
            "Epoch     5, train loss 1.105662, train error 44.30,  val loss 1.142002, percent error 46.20\n",
            "Epoch     6, train loss 1.055847, train error 42.25,  val loss 1.082073, percent error 44.20\n",
            "Epoch     7, train loss 0.941179, train error 37.65,  val loss 0.964439, percent error 38.80\n",
            "Epoch     8, train loss 0.858269, train error 34.95,  val loss 0.893947, percent error 37.00\n",
            "Epoch     9, train loss 0.801655, train error 32.62,  val loss 0.848815, percent error 34.10\n",
            "Epoch    10, train loss 0.713491, train error 27.28,  val loss 0.775945, percent error 29.70\n",
            "Epoch    11, train loss 0.641136, train error 24.72,  val loss 0.714636, percent error 27.40\n",
            "Epoch    12, train loss 0.562352, train error 21.50,  val loss 0.655837, percent error 25.30\n",
            "Epoch    13, train loss 0.522839, train error 19.82,  val loss 0.595596, percent error 23.00\n",
            "Epoch    14, train loss 0.443931, train error 17.12,  val loss 0.541018, percent error 21.60\n",
            "Epoch    15, train loss 0.371037, train error 14.00,  val loss 0.470021, percent error 17.90\n",
            "Epoch    16, train loss 0.319811, train error 11.75,  val loss 0.432114, percent error 15.80\n",
            "Epoch    17, train loss 0.310189, train error 10.90,  val loss 0.436802, percent error 15.70\n",
            "Epoch    18, train loss 0.380224, train error 13.95,  val loss 0.508488, percent error 18.60\n",
            "Epoch    19, train loss 0.372936, train error 14.12,  val loss 0.541156, percent error 20.30\n",
            "Epoch    20, train loss 0.237017, train error 8.20,  val loss 0.376331, percent error 12.90\n",
            "Epoch    21, train loss 0.207177, train error 6.88,  val loss 0.358398, percent error 12.50\n",
            "Epoch    22, train loss 0.192697, train error 6.45,  val loss 0.352144, percent error 12.10\n",
            "Epoch    23, train loss 0.184462, train error 6.30,  val loss 0.338691, percent error 11.70\n",
            "Epoch    24, train loss 0.170803, train error 5.65,  val loss 0.358512, percent error 12.10\n",
            "Epoch    25, train loss 0.172239, train error 5.50,  val loss 0.362166, percent error 12.40\n",
            "Epoch    26, train loss 0.165497, train error 5.53,  val loss 0.349071, percent error 12.00\n",
            "Epoch    27, train loss 0.167737, train error 5.57,  val loss 0.378180, percent error 12.10\n",
            "Epoch    28, train loss 0.187993, train error 6.53,  val loss 0.425913, percent error 12.50\n",
            "Epoch    29, train loss 0.194562, train error 6.53,  val loss 0.422836, percent error 12.80\n",
            "Epoch    30, train loss 0.133518, train error 4.30,  val loss 0.359035, percent error 11.50\n",
            "Epoch    31, train loss 0.129934, train error 4.53,  val loss 0.361388, percent error 11.90\n",
            "Epoch    32, train loss 0.137607, train error 4.50,  val loss 0.377092, percent error 11.30\n",
            "Epoch    33, train loss 0.121717, train error 3.90,  val loss 0.366066, percent error 11.70\n",
            "Epoch    34, train loss 0.114665, train error 3.78,  val loss 0.363597, percent error 11.50\n",
            "Epoch    35, train loss 0.123141, train error 4.10,  val loss 0.353863, percent error 10.30\n",
            "Epoch    36, train loss 0.122110, train error 3.72,  val loss 0.394028, percent error 11.40\n",
            "Epoch    37, train loss 0.147297, train error 5.35,  val loss 0.454177, percent error 12.40\n",
            "Epoch    38, train loss 0.109682, train error 3.47,  val loss 0.359339, percent error 9.90\n",
            "Epoch    39, train loss 0.100517, train error 3.12,  val loss 0.356767, percent error 11.20\n",
            "Epoch    40, train loss 0.093839, train error 3.12,  val loss 0.381678, percent error 11.10\n",
            "Epoch    41, train loss 0.093737, train error 3.22,  val loss 0.379011, percent error 10.60\n",
            "Epoch    42, train loss 0.079150, train error 2.25,  val loss 0.351596, percent error 9.80\n",
            "Epoch    43, train loss 0.074762, train error 1.93,  val loss 0.363741, percent error 10.10\n",
            "Epoch    44, train loss 0.073964, train error 1.78,  val loss 0.376723, percent error 10.40\n",
            "Epoch    45, train loss 0.075267, train error 2.10,  val loss 0.369544, percent error 10.50\n",
            "Epoch    46, train loss 0.073749, train error 2.07,  val loss 0.380014, percent error 10.30\n",
            "Epoch    47, train loss 0.069639, train error 2.03,  val loss 0.373705, percent error 11.10\n",
            "Epoch    48, train loss 0.072556, train error 2.22,  val loss 0.380749, percent error 11.30\n",
            "Epoch    49, train loss 0.062465, train error 1.70,  val loss 0.377828, percent error 10.50\n",
            "Epoch    50, train loss 0.066070, train error 1.72,  val loss 0.383462, percent error 11.30\n",
            "Epoch    51, train loss 0.064717, train error 1.53,  val loss 0.373133, percent error 9.70\n",
            "Epoch    52, train loss 0.065644, train error 1.88,  val loss 0.389359, percent error 10.00\n",
            "Epoch    53, train loss 0.063926, train error 1.95,  val loss 0.387869, percent error 11.40\n",
            "Epoch    54, train loss 0.058549, train error 1.35,  val loss 0.374805, percent error 10.80\n",
            "Epoch    55, train loss 0.056681, train error 1.53,  val loss 0.385383, percent error 10.40\n",
            "Epoch    56, train loss 0.053125, train error 1.20,  val loss 0.381720, percent error 10.80\n",
            "Epoch    57, train loss 0.056560, train error 1.40,  val loss 0.384179, percent error 10.70\n",
            "Epoch    58, train loss 0.056295, train error 1.45,  val loss 0.392205, percent error 11.30\n",
            "Epoch    59, train loss 0.053207, train error 1.35,  val loss 0.388164, percent error 10.00\n",
            "Epoch    60, train loss 0.047405, train error 1.03,  val loss 0.382379, percent error 10.70\n",
            "Epoch    61, train loss 0.047209, train error 1.00,  val loss 0.389862, percent error 10.40\n",
            "Epoch    62, train loss 0.047290, train error 1.00,  val loss 0.394914, percent error 10.10\n",
            "Epoch    63, train loss 0.045502, train error 0.93,  val loss 0.390402, percent error 10.20\n",
            "Epoch    64, train loss 0.045954, train error 0.97,  val loss 0.389218, percent error 10.10\n",
            "Epoch    65, train loss 0.044740, train error 0.82,  val loss 0.394487, percent error 10.40\n",
            "Epoch    66, train loss 0.044896, train error 0.95,  val loss 0.394076, percent error 9.90\n",
            "Epoch    67, train loss 0.044414, train error 0.90,  val loss 0.391456, percent error 10.20\n",
            "Epoch    68, train loss 0.045081, train error 0.93,  val loss 0.400734, percent error 10.30\n",
            "Epoch    69, train loss 0.044579, train error 0.93,  val loss 0.397555, percent error 9.50\n",
            "Epoch    70, train loss 0.041912, train error 0.78,  val loss 0.395027, percent error 10.40\n",
            "Epoch    71, train loss 0.042486, train error 0.78,  val loss 0.400477, percent error 10.10\n",
            "Epoch    72, train loss 0.042716, train error 0.93,  val loss 0.404420, percent error 10.50\n",
            "Epoch    73, train loss 0.041846, train error 0.85,  val loss 0.401665, percent error 11.00\n",
            "Epoch    74, train loss 0.041793, train error 1.00,  val loss 0.397825, percent error 9.50\n",
            "Epoch    75, train loss 0.039698, train error 0.75,  val loss 0.400880, percent error 10.10\n",
            "Epoch    76, train loss 0.039734, train error 0.68,  val loss 0.403734, percent error 11.00\n",
            "Epoch    77, train loss 0.040646, train error 0.80,  val loss 0.405314, percent error 9.30\n",
            "Epoch    78, train loss 0.038807, train error 0.65,  val loss 0.401504, percent error 10.10\n",
            "Epoch    79, train loss 0.038577, train error 0.80,  val loss 0.402820, percent error 10.00\n",
            "Epoch    80, train loss 0.036971, train error 0.53,  val loss 0.405163, percent error 10.40\n",
            "Epoch    81, train loss 0.037354, train error 0.62,  val loss 0.404052, percent error 10.10\n",
            "Epoch    82, train loss 0.037176, train error 0.60,  val loss 0.406786, percent error 9.80\n",
            "Epoch    83, train loss 0.037031, train error 0.57,  val loss 0.407535, percent error 9.80\n",
            "Epoch    84, train loss 0.036582, train error 0.53,  val loss 0.409199, percent error 10.10\n",
            "Epoch    85, train loss 0.036333, train error 0.57,  val loss 0.408873, percent error 10.50\n",
            "Epoch    86, train loss 0.036058, train error 0.60,  val loss 0.408066, percent error 10.30\n",
            "Epoch    87, train loss 0.036184, train error 0.53,  val loss 0.409944, percent error 10.40\n",
            "Epoch    88, train loss 0.035620, train error 0.55,  val loss 0.410190, percent error 10.30\n",
            "Epoch    89, train loss 0.035278, train error 0.55,  val loss 0.411885, percent error 10.40\n",
            "Epoch    90, train loss 0.035241, train error 0.53,  val loss 0.413408, percent error 10.70\n",
            "Epoch    91, train loss 0.035003, train error 0.50,  val loss 0.414268, percent error 10.00\n",
            "Epoch    92, train loss 0.034805, train error 0.53,  val loss 0.413286, percent error 10.30\n",
            "Epoch    93, train loss 0.034719, train error 0.50,  val loss 0.417060, percent error 10.10\n",
            "Epoch    94, train loss 0.034450, train error 0.57,  val loss 0.417210, percent error 10.40\n",
            "Epoch    95, train loss 0.034151, train error 0.47,  val loss 0.414082, percent error 10.30\n",
            "Epoch    96, train loss 0.034232, train error 0.47,  val loss 0.416846, percent error 10.40\n",
            "Epoch    97, train loss 0.033931, train error 0.50,  val loss 0.417429, percent error 10.40\n",
            "Epoch    98, train loss 0.033720, train error 0.50,  val loss 0.415479, percent error 10.10\n",
            "Epoch    99, train loss 0.033454, train error 0.50,  val loss 0.418022, percent error 10.10\n"
          ]
        },
        {
          "output_type": "display_data",
          "data": {
            "text/plain": [
              "<Figure size 640x480 with 1 Axes>"
            ],
            "image/png": "[encoded data removed]"
          },
          "metadata": {}
        }
      ]
    }
  ]
}